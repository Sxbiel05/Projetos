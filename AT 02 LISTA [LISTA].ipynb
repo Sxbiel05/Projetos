{
  "cells": [
    {
      "cell_type": "markdown",
      "source": [
        "AT 02 #CRIAR UMA LISTA COM 10 ELEMENTOS E NA POXIÇAO 6 CRIAR UMA LISTA COM 5 ELEMENTOS.\n",
        "\n",
        "- ALTERAR 2 ELEMENTOS DA LISTA\n",
        "- EXCLUIR 3 ELEMENTOS DA LISTA\n",
        "- MOSTRE TODOS OS ELEMENTOS DA LISTA"
      ],
      "metadata": {
        "id": "-wCO6B0vxmOg"
      }
    },
    {
      "cell_type": "code",
      "source": [
        "supermercado = [\"melancia\",\"vassoura\",\"maça\",\" arroz\",\"suco\",\"guarana\",\"pera\",\"banana\",\"biscoito\",\"detergente\"]\n",
        "print (supermercado)"
      ],
      "metadata": {
        "colab": {
          "base_uri": "https://localhost:8080/"
        },
        "id": "sgjdzIqV3UZo",
        "outputId": "5d07cca6-2648-493f-9daa-0a8210ad4430"
      },
      "execution_count": 26,
      "outputs": [
        {
          "output_type": "stream",
          "name": "stdout",
          "text": [
            "['melancia', 'vassoura', 'maça', ' arroz', 'suco', 'guarana', 'pera', 'banana', 'biscoito', 'detergente']\n"
          ]
        }
      ]
    },
    {
      "cell_type": "code",
      "source": [
        "supermercado.insert(6,supermercado2)\n",
        "print (supermercado)"
      ],
      "metadata": {
        "colab": {
          "base_uri": "https://localhost:8080/"
        },
        "id": "apObeRyEAwCm",
        "outputId": "ee364527-003f-4a2a-ae03-83fa0919c932"
      },
      "execution_count": 27,
      "outputs": [
        {
          "output_type": "stream",
          "name": "stdout",
          "text": [
            "['melancia', 'vassoura', 'maça', ' arroz', 'suco', 'guarana', ['faca', 'rodo', 'panela', 'tapete', 'quadro'], 'pera', 'banana', 'biscoito', 'detergente']\n"
          ]
        }
      ]
    },
    {
      "cell_type": "code",
      "source": [
        "supermercado [2] =\"uva\"\n",
        "print (supermercado)\n",
        "\n",
        "supermercado [3] =\"camisa\"\n",
        "print (supermercado)\n",
        "\n",
        "supermercado [1] =\"bola\"\n",
        "print (supermercado)"
      ],
      "metadata": {
        "colab": {
          "base_uri": "https://localhost:8080/"
        },
        "id": "zBiwZB4JAxzE",
        "outputId": "9b4c5fef-75ef-4b48-a3be-48b5469ec0e5"
      },
      "execution_count": 28,
      "outputs": [
        {
          "output_type": "stream",
          "name": "stdout",
          "text": [
            "['melancia', 'vassoura', 'uva', ' arroz', 'suco', 'guarana', ['faca', 'rodo', 'panela', 'tapete', 'quadro'], 'pera', 'banana', 'biscoito', 'detergente']\n",
            "['melancia', 'vassoura', 'uva', 'camisa', 'suco', 'guarana', ['faca', 'rodo', 'panela', 'tapete', 'quadro'], 'pera', 'banana', 'biscoito', 'detergente']\n",
            "['melancia', 'bola', 'uva', 'camisa', 'suco', 'guarana', ['faca', 'rodo', 'panela', 'tapete', 'quadro'], 'pera', 'banana', 'biscoito', 'detergente']\n"
          ]
        }
      ]
    },
    {
      "cell_type": "code",
      "source": [
        "supermercado.remove(\"biscoito\")\n",
        "print (supermercado)\n",
        "\n",
        "supermercado.remove(\"detergente\")\n",
        "print (supermercado)\n",
        "\n",
        "supermercado.remove(\"guarana\")\n",
        "print (supermercado)\n",
        "\n",
        "print (supermercado)"
      ],
      "metadata": {
        "colab": {
          "base_uri": "https://localhost:8080/"
        },
        "id": "QWMzyeKjBGqz",
        "outputId": "f680a359-b696-49c4-b7bc-205b7d771d51"
      },
      "execution_count": 29,
      "outputs": [
        {
          "output_type": "stream",
          "name": "stdout",
          "text": [
            "['melancia', 'bola', 'uva', 'camisa', 'suco', 'guarana', ['faca', 'rodo', 'panela', 'tapete', 'quadro'], 'pera', 'banana', 'detergente']\n",
            "['melancia', 'bola', 'uva', 'camisa', 'suco', 'guarana', ['faca', 'rodo', 'panela', 'tapete', 'quadro'], 'pera', 'banana']\n",
            "['melancia', 'bola', 'uva', 'camisa', 'suco', ['faca', 'rodo', 'panela', 'tapete', 'quadro'], 'pera', 'banana']\n",
            "['melancia', 'bola', 'uva', 'camisa', 'suco', ['faca', 'rodo', 'panela', 'tapete', 'quadro'], 'pera', 'banana']\n"
          ]
        }
      ]
    }
  ],
  "metadata": {
    "colab": {
      "provenance": []
    },
    "kernelspec": {
      "display_name": "Python 3",
      "name": "python3"
    }
  },
  "nbformat": 4,
  "nbformat_minor": 0
}